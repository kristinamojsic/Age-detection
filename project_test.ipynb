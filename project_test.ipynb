{
  "cells": [
    {
      "cell_type": "markdown",
      "metadata": {
        "id": "aF3PVJEsctzh"
      },
      "source": [
        ""
      ]
    },
    {
      "cell_type": "code",
      "execution_count": null,
      "metadata": {
        "colab": {
          "base_uri": "https://localhost:8080/"
        },
        "id": "OGnrVfq2ksV1",
        "outputId": "0db2c013-6d7e-46d4-9e07-afc82dcbd598"
      },
      "outputs": [
        {
          "name": "stdout",
          "output_type": "stream",
          "text": [
            "Mounted at /content/drive\n"
          ]
        }
      ],
      "source": [
        "from google.colab import drive\n",
        "drive.mount('/content/drive') "
      ]
    },
    {
      "cell_type": "code",
      "execution_count": null,
      "metadata": {
        "colab": {
          "base_uri": "https://localhost:8080/"
        },
        "id": "PHlV2ly-AxXH",
        "outputId": "84772dfa-757b-460d-9f5e-0037e4db69b4"
      },
      "outputs": [
        {
          "name": "stdout",
          "output_type": "stream",
          "text": [
            "Mounted at /content/drive\n"
          ]
        }
      ],
      "source": [
        "drive.mount(\"/content/drive\", force_remount=True)"
      ]
    },
    {
      "cell_type": "code",
      "execution_count": null,
      "metadata": {
        "colab": {
          "background_save": true
        },
        "id": "D8ELcI6Jy9V_"
      },
      "outputs": [],
      "source": [
        "\n",
        "import cv2\n",
        "import numpy as np\n",
        "from keras.models import load_model\n",
        "from google.colab.patches import cv2_imshow\n",
        "model = load_model('drive/MyDrive/final_cnn_model_checkpoint.h5')\n",
        "detector = cv2.CascadeClassifier('drive/MyDrive/haarcascade_frontalface_default.xml')\n",
        "ranges = ['1-2','3-9','10-20','21-27','28-45','46-65','66-116']\n",
        "img_path = str(input(\"Image location:\"))\n",
        "img = cv2.imread(img_path)\n",
        "faces = detector.detectMultiScale(img,1.3,5)\n",
        "for x,y,w,h in faces:\n",
        "    face = img[y:y+h,x:x+w]\n",
        "    face = cv2.cvtColor(face,cv2.COLOR_BGR2GRAY)\n",
        "    face = cv2.resize(face,(200,200))\n",
        "    face = face.reshape(1,200,200,1)\n",
        "    age = model.predict(face)\n",
        "    cv2.rectangle(img,(x,y),(x+w,y+h),(255,0,0),2)\n",
        "    cv2.rectangle(img,(x,y+h),(x+w,y+h+50),(255,0,0),-1)\n",
        "    cv2.putText(img,ranges[np.argmax(age)],(x+65,y+h+35),cv2.FONT_HERSHEY_DUPLEX,0.8,(255,255,255),2)\n",
        "            \n",
        "cv2_imshow(img)\n",
        "        \n",
        "        \n"
      ]
    }
  ],
  "metadata": {
    "colab": {
      "collapsed_sections": [],
      "name": "projekat_test.ipynb",
      "provenance": []
    },
    "kernelspec": {
      "display_name": "Python 3",
      "name": "python3"
    },
    "language_info": {
      "name": "python"
    }
  },
  "nbformat": 4,
  "nbformat_minor": 0
}